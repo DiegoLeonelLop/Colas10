{
  "nbformat": 4,
  "nbformat_minor": 0,
  "metadata": {
    "colab": {
      "name": "Colas_10.ipynb",
      "provenance": []
    },
    "kernelspec": {
      "name": "python3",
      "display_name": "Python 3"
    },
    "language_info": {
      "name": "python"
    }
  },
  "cells": [
    {
      "cell_type": "markdown",
      "metadata": {
        "id": "XTgfjDwLKmRR"
      },
      "source": [
        ""
      ]
    },
    {
      "cell_type": "code",
      "metadata": {
        "id": "SAuVDHAOJ9k_"
      },
      "source": [
        "class Queue:\n",
        "    def __init__(self): \n",
        "        self.data = []\n",
        "    \n",
        "    def is_empty( self):\n",
        "        return len( self.data)==0\n",
        "\n",
        "    def lenght( self ):\n",
        "        return len( self.data)\n",
        "    \n",
        "    def enqueue( self , value ):\n",
        "        self.data.append( value)\n",
        "\n",
        "    def dequeue( self ):\n",
        "        return self.data.pop(0)\n",
        "\n",
        "    def to_string( self ):\n",
        "        for elem in self.data:\n",
        "            print(f\"| {elem } | <--\" , end=\"\")\n"
      ],
      "execution_count": 11,
      "outputs": []
    },
    {
      "cell_type": "code",
      "metadata": {
        "colab": {
          "base_uri": "https://localhost:8080/"
        },
        "id": "bFpqie_RMrpv",
        "outputId": "23bfc3bb-170c-4ef6-8e44-151b4c690aa7"
      },
      "source": [
        "cola= Queue()\n",
        "print(\"Esta vacio?:\" , cola.is_empty())\n",
        "print(\"numero de elementos = \" , cola.lenght() )\n",
        "cola.enqueue(10)\n",
        "cola.enqueue(20)\n",
        "cola.enqueue(30)\n",
        "print(\"Esta vacio?:\" , cola.is_empty())\n",
        "print(\"numero de elementos = \" , cola.lenght() )\n",
        "cola.enqueue(40)\n",
        "cola.enqueue(50)\n",
        "cola.enqueue(60)\n",
        "cola.to_string()\n",
        "siguiente = cola.dequeue()\n",
        "print(\"Atendiendo a:\" , siguiente)\n",
        "cola.to_string()"
      ],
      "execution_count": 12,
      "outputs": [
        {
          "output_type": "stream",
          "name": "stdout",
          "text": [
            "Esta vacio?: True\n",
            "numero de elementos =  0\n",
            "Esta vacio?: False\n",
            "numero de elementos =  3\n",
            "| 10 | <--| 20 | <--| 30 | <--| 40 | <--| 50 | <--| 60 | <--Atendiendo a: 10\n",
            "| 20 | <--| 30 | <--| 40 | <--| 50 | <--| 60 | <--"
          ]
        }
      ]
    },
    {
      "cell_type": "markdown",
      "metadata": {
        "id": "58guFtdbQm7J"
      },
      "source": [
        "#VARIANTES DEL ADT COLA\n",
        "1. Circulares\n",
        "2. Prioridad\n",
        "     2.1 acotada\n",
        "     2.2 no acotada"
      ]
    }
  ]
}